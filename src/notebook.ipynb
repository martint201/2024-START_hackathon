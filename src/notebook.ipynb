{
 "cells": [
  {
   "cell_type": "code",
   "execution_count": 37,
   "metadata": {},
   "outputs": [],
   "source": [
    "import pandas as pd\n",
    "import numpy as np\n",
    "import matplotlib.pyplot as plt\n",
    "import os\n",
    "import zipfile\n",
    "import json"
   ]
  },
  {
   "cell_type": "code",
   "execution_count": 38,
   "metadata": {},
   "outputs": [
    {
     "name": "stdout",
     "output_type": "stream",
     "text": [
      "['EUESGMANUFACTURER-LIGHT.zip', 'EUESGMANUFACTURER.zip', 'README.md']\n"
     ]
    }
   ],
   "source": [
    "# path data\n",
    "DATA_PATH = \"../ESG/\"\n",
    "print(os.listdir(DATA_PATH))"
   ]
  },
  {
   "cell_type": "code",
   "execution_count": 39,
   "metadata": {},
   "outputs": [
    {
     "name": "stdout",
     "output_type": "stream",
     "text": [
      "(30157, 22)\n"
     ]
    },
    {
     "data": {
      "text/html": [
       "<div>\n",
       "<style scoped>\n",
       "    .dataframe tbody tr th:only-of-type {\n",
       "        vertical-align: middle;\n",
       "    }\n",
       "\n",
       "    .dataframe tbody tr th {\n",
       "        vertical-align: top;\n",
       "    }\n",
       "\n",
       "    .dataframe thead th {\n",
       "        text-align: right;\n",
       "    }\n",
       "</style>\n",
       "<table border=\"1\" class=\"dataframe\">\n",
       "  <thead>\n",
       "    <tr style=\"text-align: right;\">\n",
       "      <th></th>\n",
       "      <th>swissValorNumber</th>\n",
       "      <th>ISIN</th>\n",
       "      <th>ISIN_BC</th>\n",
       "      <th>FISN</th>\n",
       "      <th>issuerSIXCompanyKey</th>\n",
       "      <th>LEI</th>\n",
       "      <th>companyDomicile</th>\n",
       "      <th>companyDomicileISO</th>\n",
       "      <th>companyLongName</th>\n",
       "      <th>fundManagerSIXCompanyKey</th>\n",
       "      <th>...</th>\n",
       "      <th>ESGValidFrom</th>\n",
       "      <th>ESGDeliveryDate</th>\n",
       "      <th>ESGActivity</th>\n",
       "      <th>ESGClassification</th>\n",
       "      <th>ESGFactor</th>\n",
       "      <th>ESGFactorProviderId</th>\n",
       "      <th>ESGFactorAmountLastYear</th>\n",
       "      <th>ESGFactorAmountLastYearUnit</th>\n",
       "      <th>ESGClassSymbol</th>\n",
       "      <th>ESGFactorDate</th>\n",
       "    </tr>\n",
       "  </thead>\n",
       "  <tbody>\n",
       "    <tr>\n",
       "      <th>0</th>\n",
       "      <td>28101647</td>\n",
       "      <td>CH0281016474</td>\n",
       "      <td>CH0281016474_393</td>\n",
       "      <td>Von Fd PenInYd/Ut Cl-A CHF</td>\n",
       "      <td>693053</td>\n",
       "      <td>5493005ZZWAG5GH0G736</td>\n",
       "      <td>Switzerland</td>\n",
       "      <td>CH</td>\n",
       "      <td>Vontobel Fund (CH) - Pension Invest Yield</td>\n",
       "      <td>552303.0</td>\n",
       "      <td>...</td>\n",
       "      <td>2024-02-01</td>\n",
       "      <td>2024-02-02</td>\n",
       "      <td>Data Set, Manufacturer and Product information</td>\n",
       "      <td>EET Data Set Information</td>\n",
       "      <td>00010_EET_Version</td>\n",
       "      <td>00010</td>\n",
       "      <td>1.11</td>\n",
       "      <td>NaN</td>\n",
       "      <td>NaN</td>\n",
       "      <td>NaN</td>\n",
       "    </tr>\n",
       "    <tr>\n",
       "      <th>1</th>\n",
       "      <td>28101647</td>\n",
       "      <td>CH0281016474</td>\n",
       "      <td>CH0281016474_393</td>\n",
       "      <td>Von Fd PenInYd/Ut Cl-A CHF</td>\n",
       "      <td>693053</td>\n",
       "      <td>5493005ZZWAG5GH0G736</td>\n",
       "      <td>Switzerland</td>\n",
       "      <td>CH</td>\n",
       "      <td>Vontobel Fund (CH) - Pension Invest Yield</td>\n",
       "      <td>552303.0</td>\n",
       "      <td>...</td>\n",
       "      <td>2024-02-01</td>\n",
       "      <td>2024-02-02</td>\n",
       "      <td>Data Set, Manufacturer and Product information</td>\n",
       "      <td>EET Data Set Information</td>\n",
       "      <td>00060_EET_Data_Reporting_SFDR_Pre_Contractual</td>\n",
       "      <td>00060</td>\n",
       "      <td>NaN</td>\n",
       "      <td>NaN</td>\n",
       "      <td>ESG3-2 : No</td>\n",
       "      <td>NaN</td>\n",
       "    </tr>\n",
       "    <tr>\n",
       "      <th>2</th>\n",
       "      <td>28101647</td>\n",
       "      <td>CH0281016474</td>\n",
       "      <td>CH0281016474_393</td>\n",
       "      <td>Von Fd PenInYd/Ut Cl-A CHF</td>\n",
       "      <td>693053</td>\n",
       "      <td>5493005ZZWAG5GH0G736</td>\n",
       "      <td>Switzerland</td>\n",
       "      <td>CH</td>\n",
       "      <td>Vontobel Fund (CH) - Pension Invest Yield</td>\n",
       "      <td>552303.0</td>\n",
       "      <td>...</td>\n",
       "      <td>2024-02-01</td>\n",
       "      <td>2024-02-02</td>\n",
       "      <td>Data Set, Manufacturer and Product information</td>\n",
       "      <td>EET Data Set Information</td>\n",
       "      <td>00070_EET_Data_Reporting_SFDR_Periodic</td>\n",
       "      <td>00070</td>\n",
       "      <td>NaN</td>\n",
       "      <td>NaN</td>\n",
       "      <td>ESG3-2 : No</td>\n",
       "      <td>NaN</td>\n",
       "    </tr>\n",
       "    <tr>\n",
       "      <th>3</th>\n",
       "      <td>28101647</td>\n",
       "      <td>CH0281016474</td>\n",
       "      <td>CH0281016474_393</td>\n",
       "      <td>Von Fd PenInYd/Ut Cl-A CHF</td>\n",
       "      <td>693053</td>\n",
       "      <td>5493005ZZWAG5GH0G736</td>\n",
       "      <td>Switzerland</td>\n",
       "      <td>CH</td>\n",
       "      <td>Vontobel Fund (CH) - Pension Invest Yield</td>\n",
       "      <td>552303.0</td>\n",
       "      <td>...</td>\n",
       "      <td>2024-02-01</td>\n",
       "      <td>2024-02-02</td>\n",
       "      <td>Data Set, Manufacturer and Product information</td>\n",
       "      <td>EET Data Set Information</td>\n",
       "      <td>00080_EET_Data_Reporting_SFDR_Entity_Level</td>\n",
       "      <td>00080</td>\n",
       "      <td>NaN</td>\n",
       "      <td>NaN</td>\n",
       "      <td>ESG3-2 : No</td>\n",
       "      <td>NaN</td>\n",
       "    </tr>\n",
       "    <tr>\n",
       "      <th>4</th>\n",
       "      <td>28101647</td>\n",
       "      <td>CH0281016474</td>\n",
       "      <td>CH0281016474_393</td>\n",
       "      <td>Von Fd PenInYd/Ut Cl-A CHF</td>\n",
       "      <td>693053</td>\n",
       "      <td>5493005ZZWAG5GH0G736</td>\n",
       "      <td>Switzerland</td>\n",
       "      <td>CH</td>\n",
       "      <td>Vontobel Fund (CH) - Pension Invest Yield</td>\n",
       "      <td>552303.0</td>\n",
       "      <td>...</td>\n",
       "      <td>2024-02-01</td>\n",
       "      <td>2024-02-02</td>\n",
       "      <td>Data Set, Manufacturer and Product information</td>\n",
       "      <td>EET Data Set Information</td>\n",
       "      <td>00090_EET_Data_Reporting_MiFID</td>\n",
       "      <td>00090</td>\n",
       "      <td>NaN</td>\n",
       "      <td>NaN</td>\n",
       "      <td>ESG3-2 : No</td>\n",
       "      <td>NaN</td>\n",
       "    </tr>\n",
       "  </tbody>\n",
       "</table>\n",
       "<p>5 rows × 22 columns</p>\n",
       "</div>"
      ],
      "text/plain": [
       "   swissValorNumber          ISIN           ISIN_BC  \\\n",
       "0          28101647  CH0281016474  CH0281016474_393   \n",
       "1          28101647  CH0281016474  CH0281016474_393   \n",
       "2          28101647  CH0281016474  CH0281016474_393   \n",
       "3          28101647  CH0281016474  CH0281016474_393   \n",
       "4          28101647  CH0281016474  CH0281016474_393   \n",
       "\n",
       "                         FISN  issuerSIXCompanyKey                   LEI  \\\n",
       "0  Von Fd PenInYd/Ut Cl-A CHF               693053  5493005ZZWAG5GH0G736   \n",
       "1  Von Fd PenInYd/Ut Cl-A CHF               693053  5493005ZZWAG5GH0G736   \n",
       "2  Von Fd PenInYd/Ut Cl-A CHF               693053  5493005ZZWAG5GH0G736   \n",
       "3  Von Fd PenInYd/Ut Cl-A CHF               693053  5493005ZZWAG5GH0G736   \n",
       "4  Von Fd PenInYd/Ut Cl-A CHF               693053  5493005ZZWAG5GH0G736   \n",
       "\n",
       "  companyDomicile companyDomicileISO  \\\n",
       "0     Switzerland                 CH   \n",
       "1     Switzerland                 CH   \n",
       "2     Switzerland                 CH   \n",
       "3     Switzerland                 CH   \n",
       "4     Switzerland                 CH   \n",
       "\n",
       "                             companyLongName  fundManagerSIXCompanyKey  ...  \\\n",
       "0  Vontobel Fund (CH) - Pension Invest Yield                  552303.0  ...   \n",
       "1  Vontobel Fund (CH) - Pension Invest Yield                  552303.0  ...   \n",
       "2  Vontobel Fund (CH) - Pension Invest Yield                  552303.0  ...   \n",
       "3  Vontobel Fund (CH) - Pension Invest Yield                  552303.0  ...   \n",
       "4  Vontobel Fund (CH) - Pension Invest Yield                  552303.0  ...   \n",
       "\n",
       "  ESGValidFrom ESGDeliveryDate  \\\n",
       "0   2024-02-01      2024-02-02   \n",
       "1   2024-02-01      2024-02-02   \n",
       "2   2024-02-01      2024-02-02   \n",
       "3   2024-02-01      2024-02-02   \n",
       "4   2024-02-01      2024-02-02   \n",
       "\n",
       "                                      ESGActivity         ESGClassification  \\\n",
       "0  Data Set, Manufacturer and Product information  EET Data Set Information   \n",
       "1  Data Set, Manufacturer and Product information  EET Data Set Information   \n",
       "2  Data Set, Manufacturer and Product information  EET Data Set Information   \n",
       "3  Data Set, Manufacturer and Product information  EET Data Set Information   \n",
       "4  Data Set, Manufacturer and Product information  EET Data Set Information   \n",
       "\n",
       "                                       ESGFactor ESGFactorProviderId  \\\n",
       "0                              00010_EET_Version               00010   \n",
       "1  00060_EET_Data_Reporting_SFDR_Pre_Contractual               00060   \n",
       "2         00070_EET_Data_Reporting_SFDR_Periodic               00070   \n",
       "3     00080_EET_Data_Reporting_SFDR_Entity_Level               00080   \n",
       "4                 00090_EET_Data_Reporting_MiFID               00090   \n",
       "\n",
       "  ESGFactorAmountLastYear ESGFactorAmountLastYearUnit  ESGClassSymbol  \\\n",
       "0                    1.11                         NaN             NaN   \n",
       "1                     NaN                         NaN     ESG3-2 : No   \n",
       "2                     NaN                         NaN     ESG3-2 : No   \n",
       "3                     NaN                         NaN     ESG3-2 : No   \n",
       "4                     NaN                         NaN     ESG3-2 : No   \n",
       "\n",
       "  ESGFactorDate  \n",
       "0           NaN  \n",
       "1           NaN  \n",
       "2           NaN  \n",
       "3           NaN  \n",
       "4           NaN  \n",
       "\n",
       "[5 rows x 22 columns]"
      ]
     },
     "metadata": {},
     "output_type": "display_data"
    }
   ],
   "source": [
    "# import data\n",
    "esg_light = \"EUESGMANUFACTURER-LIGHT.zip\"\n",
    "esg_light_data = pd.DataFrame()\n",
    "\n",
    "with zipfile.ZipFile(DATA_PATH + esg_light, 'r') as z:\n",
    "    for filename in z.namelist():\n",
    "        if filename.endswith('.csv'):\n",
    "            with z.open(filename) as f:\n",
    "                esg_light_data = pd.read_csv(f)\n",
    "\n",
    "print(esg_light_data.shape)\n",
    "display(esg_light_data.head())"
   ]
  },
  {
   "cell_type": "code",
   "execution_count": 40,
   "metadata": {},
   "outputs": [
    {
     "data": {
      "text/plain": [
       "array([nan, 'ESG3-2 : No', 'ESG3-1 : Yes',\n",
       "       'ESG3-36 : FI according to Article 2 No. 7c', 'ESG3-11 : Neutral',\n",
       "       'ESG3-33 : dedicated ESG strategy', 'ESG3-32 : Basic',\n",
       "       'ESG3-39 : FI according to Article 2 No. 7b & 7c',\n",
       "       'ESG3-31 : No information / data or declared as non-sustainable',\n",
       "       'ESG3-58 : Multi Focus', 'ESG3-13 : Social',\n",
       "       'ESG3-35 : FI according to Article 2 No. 7b',\n",
       "       'ESG3-12 : Environmental',\n",
       "       'ESG3-37 : FI according to Article 2 No. 7a, 7b & 7c',\n",
       "       'ESG3-14 : Governance'], dtype=object)"
      ]
     },
     "execution_count": 40,
     "metadata": {},
     "output_type": "execute_result"
    }
   ],
   "source": [
    "esg_light_data[\"ESGClassSymbol\"].unique()"
   ]
  },
  {
   "cell_type": "code",
   "execution_count": 41,
   "metadata": {},
   "outputs": [
    {
     "data": {
      "text/plain": [
       "Index(['swissValorNumber', 'ISIN', 'ISIN_BC', 'FISN', 'issuerSIXCompanyKey',\n",
       "       'LEI', 'companyDomicile', 'companyDomicileISO', 'companyLongName',\n",
       "       'fundManagerSIXCompanyKey', 'fundManagerLEI', 'fundManagerLongName',\n",
       "       'ESGValidFrom', 'ESGDeliveryDate', 'ESGActivity', 'ESGClassification',\n",
       "       'ESGFactor', 'ESGFactorProviderId', 'ESGFactorAmountLastYear',\n",
       "       'ESGFactorAmountLastYearUnit', 'ESGClassSymbol', 'ESGFactorDate'],\n",
       "      dtype='object')"
      ]
     },
     "execution_count": 41,
     "metadata": {},
     "output_type": "execute_result"
    }
   ],
   "source": [
    "esg_light_data.columns"
   ]
  },
  {
   "cell_type": "code",
   "execution_count": 42,
   "metadata": {},
   "outputs": [
    {
     "data": {
      "text/plain": [
       "array(['Switzerland', 'Belgium', 'Denmark', 'Spain', 'United States',\n",
       "       'France', 'United Kingdom', 'Guernsey', 'Germany', 'Ireland',\n",
       "       'Italy', 'Liechtenstein', 'Luxembourg', 'Norway', 'Netherlands',\n",
       "       'Sweden', 'Czechia', 'Austria'], dtype=object)"
      ]
     },
     "execution_count": 42,
     "metadata": {},
     "output_type": "execute_result"
    }
   ],
   "source": [
    "esg_light_data[\"companyDomicile\"].unique()"
   ]
  },
  {
   "cell_type": "code",
   "execution_count": 43,
   "metadata": {},
   "outputs": [
    {
     "data": {
      "text/plain": [
       "17"
      ]
     },
     "execution_count": 43,
     "metadata": {},
     "output_type": "execute_result"
    }
   ],
   "source": [
    "len(esg_light_data[\"ESGClassification\"].unique())"
   ]
  },
  {
   "cell_type": "code",
   "execution_count": 44,
   "metadata": {},
   "outputs": [
    {
     "data": {
      "text/plain": [
       "66"
      ]
     },
     "execution_count": 44,
     "metadata": {},
     "output_type": "execute_result"
    }
   ],
   "source": [
    "len(esg_light_data[\"ESGFactorProviderId\"].unique())"
   ]
  },
  {
   "cell_type": "code",
   "execution_count": 45,
   "metadata": {},
   "outputs": [
    {
     "data": {
      "text/plain": [
       "array(['00010_EET_Version',\n",
       "       '00060_EET_Data_Reporting_SFDR_Pre_Contractual',\n",
       "       '00070_EET_Data_Reporting_SFDR_Periodic',\n",
       "       '00080_EET_Data_Reporting_SFDR_Entity_Level',\n",
       "       '00090_EET_Data_Reporting_MiFID', '00100_EET_Data_Reporting_IDD',\n",
       "       '20040_Financial_Instrument_SFDR_Product_Type',\n",
       "       '20050_Financial_Instrument_SFDR_Product_Type_Eligible',\n",
       "       '20100_Financial_Instrument_Does_This_Product_Consider_Principle_Adverse_Impact_In_Their_Investment',\n",
       "       '20590_Does_This_Financial_Instrument_Consider_End_Client_Sustainability_Preferences',\n",
       "       '20420_Financial_Instrument_EU_SFDR_Minimum_Or_Planned_Investments_Sustainable_Investments',\n",
       "       '20450_Financial_Instrument_EU_SFDR_Minimum_Or_Planned_Investments_Sustainable_Investments_Taxonomy_Aligned',\n",
       "       '20170_Financial_Instrument_Sustainable_Investments_Art_8',\n",
       "       '20180_Financial_Instrument_Products_Minimal_Proportion_Of_Sustainable_Investments_Art_8',\n",
       "       '20190_Financial_Instrument_Sustainable_Investment_EU_Taxonomy_Art_8',\n",
       "       '20200_Financial_Instrument_Sustainable_Investment_Environmental_Not_EU_Taxonomy_Art_8',\n",
       "       '20210_Financial_Instrument_Sustainable_Investment_Social_Objective_Art_8',\n",
       "       '30030_GHG_Emissions_Scope_1_Considered_In_The_Investment_Strategy',\n",
       "       '30070_GHG_Emissions_Scope_2_Considered_In_The_Investment_Strategy',\n",
       "       '30110_GHG_Emissions_Scope_3_Considered_In_The_Investment_Strategy',\n",
       "       '30150_GHG_Emissions_Total_Scope12_Considered_In_The_Investment_Strategy',\n",
       "       '30190_GHG_Emissions_Total_Scope123_Considered_In_The_Investment_Strategy',\n",
       "       '30230_Carbon_Footprint_Scope12_Considered_In_The_Investment_Strategy',\n",
       "       '30270_Carbon_Footprint_Scope123_Considered_In_The_Investment_Strategy',\n",
       "       '30310_GHG_Intensity_Of_Investee_Companies_Scope12_Considered_In_The_Investment_Strategy',\n",
       "       '30350_GHG_Intensity_Of_Investee_Companies_Scope123_Considered_In_The_Investment_Strategy',\n",
       "       '30390_Exposure_To_Companies_Active_In_The_Fossil_Fuel_Sector_Considered_In_The_Investment_Strategy',\n",
       "       '30430_Share_Energy_Consumption_From_Non-Renewable_Sources_Considered_In_The_Investment_Strategy',\n",
       "       '30470_Share_Energy_Production_From_Non-Renewable_Sources_Considered_In_The_Investment_Strategy',\n",
       "       '30510_Energy_Consumption_Intensity_Per_High_Impact_Climate_Sector_NACE_A_Considered_In_The_Investment_Strategy',\n",
       "       '30550_Energy_Consumption_Intensity_Per_High_Impact_Climate_Sector_NACE_B_Considered_In_The_Investment_Strategy',\n",
       "       '30590_Energy_Consumption_Intensity_Per_High_Impact_Climate_Sector_NACE_C_Considered_In_The_Investment_Strategy',\n",
       "       '30630_Energy_Consumption_Intensity_Per_High_Impact_Climate_Sector_NACE_D_Considered_In_The_Investment_Strategy',\n",
       "       '30670_Energy_Consumption_Intensity_Per_High_Impact_Climate_Sector_NACE_E_Considered_In_The_Investment_Strategy',\n",
       "       '30710_Energy_Consumption_Intensity_Per_High_Impact_Climate_Sector_NACE_F_Considered_In_The_Investment_Strategy',\n",
       "       '30750_Energy_Consumption_Intensity_Per_High_Impact_Climate_Sector_NACE_G_Considered_In_The_Investment_Strategy',\n",
       "       '30790_Energy_Consumption_Intensity_Per_High_Impact_Climate_Sector_NACE_H_Considered_In_The_Investment_Strategy',\n",
       "       '30830_Energy_Consumption_Intensity_Per_High_Impact_Climate_Sector_NACE_L_Considered_In_The_Investment_Strategy',\n",
       "       '30870_Activities_Negatively_Affecting_Biodiversity-sensitive_Areas_Considered_In_The_Investment_Strategy',\n",
       "       '30910_Water_Emissions_Considered_In_The_Investment_Strategy',\n",
       "       '30950_Hazardous_Waste_Ratio_Considered_In_The_Investment_Strategy',\n",
       "       '30990_Share_Of_Companies_Involved_In_Violation_Of_UN_Global_Compact_Principles_And_OECD_Guidelines_For_Multinational_Enterprises_Considered_In_The_Investment_Strategy',\n",
       "       '31030_Share_Of_Companies_Without_Policies_To_Monitor_Compliance_With_UNGCP_And_OECD_Guidelines_For_Multinational_Enterprises_Considered_In_The_Investment_Strategy',\n",
       "       '31060_Unadjusted_Gender_Pay_Gap_Considered_In_The_Investment_Strategy',\n",
       "       '31100_Board_Gender_Diversity_Considered_In_The_Investment_Strategy',\n",
       "       '31140_Share_Of_Investments_Involved_In_Controversial_Weapons_Considered_In_The_Investment_Strategy',\n",
       "       '31180_GHG_Intensity_Considered_In_The_Investment_Strategy',\n",
       "       '31220_Number_Of_Countries_Subject_To_Social_Violations_Considered_In_The_Investment_Strategy',\n",
       "       '31260_Percent_Of_Countries_Subject_To_Social_Violations_Considered_In_The_Investment_Strategy',\n",
       "       '31300_Exposure_To_Fossil_Fuels_Extraction_Storage_Transport_Manufacture_Considered_In_The_Investment_Strategy',\n",
       "       '31340_Exposure_To_Energy-inefficient_Real_Estate_Assets_Considered_In_The_Investment_Strategy',\n",
       "       '60440_Financial_Instrument_Sustainable_Indicators_For_German_MiFID_Market',\n",
       "       'MiFID Sustainability Preference Flag - A',\n",
       "       'MiFID Sustainability Preference Flag - B',\n",
       "       'MiFID Sustainability Preference Flag - C',\n",
       "       '60400_French_AMF_Doctrine_Approach',\n",
       "       'outstanding pre-contractual documentation warning',\n",
       "       '20220_Financial_Instrument_Minimum_Sustainable_Investment_With_Environmental_Objective_Art_9',\n",
       "       '20060-L_Financial_Instrument_ESG_Label_Or_Standard - Towards Sustainability',\n",
       "       '20230_Financial_Instrument_Environmentally_Sustainable_Investment_EU_Taxonomy_Art_9',\n",
       "       '20240_Financial_Instrument_Environmentally_Sustainable_Investment_Not_EU_Taxonomy_Art_9',\n",
       "       '20060-K_Financial_Instrument_ESG_Label_Or_Standard - ISR',\n",
       "       '20090_Financial_Instrument_Main_ESG_Focus',\n",
       "       '20060-Z_Financial_Instrument_ESG_Label_Or_Standard - Other label',\n",
       "       '20060-D_Financial_Instrument_ESG_Label_Or_Standard - FNG Siegel (Fonds)',\n",
       "       '20060-A_Financial_Instrument_ESG_Label_Or_Standard - ICMA Green Bond Principles',\n",
       "       '20060-F_Financial_Instrument_ESG_Label_Or_Standard - ICMA Social Bonds Principles',\n",
       "       '20060-J_Financial_Instrument_ESG_Label_Or_Standard - Kein Verstoß gegen Atomwaffensperrvertrag',\n",
       "       '20060-M_Financial_Instrument_ESG_Label_Or_Standard - UZ49 - das österreichische Umweltzeichen'],\n",
       "      dtype=object)"
      ]
     },
     "execution_count": 45,
     "metadata": {},
     "output_type": "execute_result"
    }
   ],
   "source": [
    "esg_light_data[\"ESGFactor\"].unique()"
   ]
  },
  {
   "cell_type": "markdown",
   "metadata": {},
   "source": [
    "# API"
   ]
  },
  {
   "cell_type": "code",
   "execution_count": 46,
   "metadata": {},
   "outputs": [],
   "source": [
    "# import class for API\n",
    "from financial_data_api import FinancialDataAPI"
   ]
  },
  {
   "cell_type": "code",
   "execution_count": 47,
   "metadata": {},
   "outputs": [
    {
     "name": "stdout",
     "output_type": "stream",
     "text": [
      "['CH52991-hackathon1', 'CH52991-hackathon10', 'CH52991-hackathon2', 'CH52991-hackathon3', 'CH52991-hackathon4', 'CH52991-hackathon5', 'CH52991-hackathon6', 'CH52991-hackathon7', 'CH52991-hackathon8', 'CH52991-hackathon9', 'README.md']\n"
     ]
    }
   ],
   "source": [
    "print(os.listdir(\"../SIXWebAPI\"))\n",
    "dir = \"../SIXWebAPI/CH52991-hackathon7\""
   ]
  },
  {
   "cell_type": "code",
   "execution_count": 49,
   "metadata": {},
   "outputs": [
    {
     "ename": "APIError",
     "evalue": "An error occurred during the API request.",
     "output_type": "error",
     "traceback": [
      "\u001b[1;31m---------------------------------------------------------------------------\u001b[0m",
      "\u001b[1;31mHTTPError\u001b[0m                                 Traceback (most recent call last)",
      "File \u001b[1;32mc:\\Users\\marti\\Desktop\\projects\\Hackathons\\2024-START_hackathon\\src\\financial_data_api.py:37\u001b[0m, in \u001b[0;36mFinancialDataAPI._http_request\u001b[1;34m(self, end_point, query_string)\u001b[0m\n\u001b[0;32m     36\u001b[0m request \u001b[38;5;241m=\u001b[39m urllib\u001b[38;5;241m.\u001b[39mrequest\u001b[38;5;241m.\u001b[39mRequest(complete_url, headers\u001b[38;5;241m=\u001b[39m\u001b[38;5;28mself\u001b[39m\u001b[38;5;241m.\u001b[39mheaders)\n\u001b[1;32m---> 37\u001b[0m \u001b[38;5;28;01mwith\u001b[39;00m \u001b[43murllib\u001b[49m\u001b[38;5;241;43m.\u001b[39;49m\u001b[43mrequest\u001b[49m\u001b[38;5;241;43m.\u001b[39;49m\u001b[43murlopen\u001b[49m\u001b[43m(\u001b[49m\u001b[43mrequest\u001b[49m\u001b[43m,\u001b[49m\u001b[43m \u001b[49m\u001b[43mcontext\u001b[49m\u001b[38;5;241;43m=\u001b[39;49m\u001b[38;5;28;43mself\u001b[39;49m\u001b[38;5;241;43m.\u001b[39;49m\u001b[43mcontext\u001b[49m\u001b[43m)\u001b[49m \u001b[38;5;28;01mas\u001b[39;00m response:\n\u001b[0;32m     38\u001b[0m     \u001b[38;5;28;01mreturn\u001b[39;00m json\u001b[38;5;241m.\u001b[39mloads(response\u001b[38;5;241m.\u001b[39mread())\n",
      "File \u001b[1;32mC:\\Program Files\\WindowsApps\\PythonSoftwareFoundation.Python.3.10_3.10.3056.0_x64__qbz5n2kfra8p0\\lib\\urllib\\request.py:216\u001b[0m, in \u001b[0;36murlopen\u001b[1;34m(url, data, timeout, cafile, capath, cadefault, context)\u001b[0m\n\u001b[0;32m    215\u001b[0m     opener \u001b[38;5;241m=\u001b[39m _opener\n\u001b[1;32m--> 216\u001b[0m \u001b[38;5;28;01mreturn\u001b[39;00m \u001b[43mopener\u001b[49m\u001b[38;5;241;43m.\u001b[39;49m\u001b[43mopen\u001b[49m\u001b[43m(\u001b[49m\u001b[43murl\u001b[49m\u001b[43m,\u001b[49m\u001b[43m \u001b[49m\u001b[43mdata\u001b[49m\u001b[43m,\u001b[49m\u001b[43m \u001b[49m\u001b[43mtimeout\u001b[49m\u001b[43m)\u001b[49m\n",
      "File \u001b[1;32mC:\\Program Files\\WindowsApps\\PythonSoftwareFoundation.Python.3.10_3.10.3056.0_x64__qbz5n2kfra8p0\\lib\\urllib\\request.py:525\u001b[0m, in \u001b[0;36mOpenerDirector.open\u001b[1;34m(self, fullurl, data, timeout)\u001b[0m\n\u001b[0;32m    524\u001b[0m     meth \u001b[38;5;241m=\u001b[39m \u001b[38;5;28mgetattr\u001b[39m(processor, meth_name)\n\u001b[1;32m--> 525\u001b[0m     response \u001b[38;5;241m=\u001b[39m \u001b[43mmeth\u001b[49m\u001b[43m(\u001b[49m\u001b[43mreq\u001b[49m\u001b[43m,\u001b[49m\u001b[43m \u001b[49m\u001b[43mresponse\u001b[49m\u001b[43m)\u001b[49m\n\u001b[0;32m    527\u001b[0m \u001b[38;5;28;01mreturn\u001b[39;00m response\n",
      "File \u001b[1;32mC:\\Program Files\\WindowsApps\\PythonSoftwareFoundation.Python.3.10_3.10.3056.0_x64__qbz5n2kfra8p0\\lib\\urllib\\request.py:634\u001b[0m, in \u001b[0;36mHTTPErrorProcessor.http_response\u001b[1;34m(self, request, response)\u001b[0m\n\u001b[0;32m    633\u001b[0m \u001b[38;5;28;01mif\u001b[39;00m \u001b[38;5;129;01mnot\u001b[39;00m (\u001b[38;5;241m200\u001b[39m \u001b[38;5;241m<\u001b[39m\u001b[38;5;241m=\u001b[39m code \u001b[38;5;241m<\u001b[39m \u001b[38;5;241m300\u001b[39m):\n\u001b[1;32m--> 634\u001b[0m     response \u001b[38;5;241m=\u001b[39m \u001b[38;5;28;43mself\u001b[39;49m\u001b[38;5;241;43m.\u001b[39;49m\u001b[43mparent\u001b[49m\u001b[38;5;241;43m.\u001b[39;49m\u001b[43merror\u001b[49m\u001b[43m(\u001b[49m\n\u001b[0;32m    635\u001b[0m \u001b[43m        \u001b[49m\u001b[38;5;124;43m'\u001b[39;49m\u001b[38;5;124;43mhttp\u001b[39;49m\u001b[38;5;124;43m'\u001b[39;49m\u001b[43m,\u001b[49m\u001b[43m \u001b[49m\u001b[43mrequest\u001b[49m\u001b[43m,\u001b[49m\u001b[43m \u001b[49m\u001b[43mresponse\u001b[49m\u001b[43m,\u001b[49m\u001b[43m \u001b[49m\u001b[43mcode\u001b[49m\u001b[43m,\u001b[49m\u001b[43m \u001b[49m\u001b[43mmsg\u001b[49m\u001b[43m,\u001b[49m\u001b[43m \u001b[49m\u001b[43mhdrs\u001b[49m\u001b[43m)\u001b[49m\n\u001b[0;32m    637\u001b[0m \u001b[38;5;28;01mreturn\u001b[39;00m response\n",
      "File \u001b[1;32mC:\\Program Files\\WindowsApps\\PythonSoftwareFoundation.Python.3.10_3.10.3056.0_x64__qbz5n2kfra8p0\\lib\\urllib\\request.py:563\u001b[0m, in \u001b[0;36mOpenerDirector.error\u001b[1;34m(self, proto, *args)\u001b[0m\n\u001b[0;32m    562\u001b[0m args \u001b[38;5;241m=\u001b[39m (\u001b[38;5;28mdict\u001b[39m, \u001b[38;5;124m'\u001b[39m\u001b[38;5;124mdefault\u001b[39m\u001b[38;5;124m'\u001b[39m, \u001b[38;5;124m'\u001b[39m\u001b[38;5;124mhttp_error_default\u001b[39m\u001b[38;5;124m'\u001b[39m) \u001b[38;5;241m+\u001b[39m orig_args\n\u001b[1;32m--> 563\u001b[0m \u001b[38;5;28;01mreturn\u001b[39;00m \u001b[38;5;28;43mself\u001b[39;49m\u001b[38;5;241;43m.\u001b[39;49m\u001b[43m_call_chain\u001b[49m\u001b[43m(\u001b[49m\u001b[38;5;241;43m*\u001b[39;49m\u001b[43margs\u001b[49m\u001b[43m)\u001b[49m\n",
      "File \u001b[1;32mC:\\Program Files\\WindowsApps\\PythonSoftwareFoundation.Python.3.10_3.10.3056.0_x64__qbz5n2kfra8p0\\lib\\urllib\\request.py:496\u001b[0m, in \u001b[0;36mOpenerDirector._call_chain\u001b[1;34m(self, chain, kind, meth_name, *args)\u001b[0m\n\u001b[0;32m    495\u001b[0m func \u001b[38;5;241m=\u001b[39m \u001b[38;5;28mgetattr\u001b[39m(handler, meth_name)\n\u001b[1;32m--> 496\u001b[0m result \u001b[38;5;241m=\u001b[39m \u001b[43mfunc\u001b[49m\u001b[43m(\u001b[49m\u001b[38;5;241;43m*\u001b[39;49m\u001b[43margs\u001b[49m\u001b[43m)\u001b[49m\n\u001b[0;32m    497\u001b[0m \u001b[38;5;28;01mif\u001b[39;00m result \u001b[38;5;129;01mis\u001b[39;00m \u001b[38;5;129;01mnot\u001b[39;00m \u001b[38;5;28;01mNone\u001b[39;00m:\n",
      "File \u001b[1;32mC:\\Program Files\\WindowsApps\\PythonSoftwareFoundation.Python.3.10_3.10.3056.0_x64__qbz5n2kfra8p0\\lib\\urllib\\request.py:643\u001b[0m, in \u001b[0;36mHTTPDefaultErrorHandler.http_error_default\u001b[1;34m(self, req, fp, code, msg, hdrs)\u001b[0m\n\u001b[0;32m    642\u001b[0m \u001b[38;5;28;01mdef\u001b[39;00m \u001b[38;5;21mhttp_error_default\u001b[39m(\u001b[38;5;28mself\u001b[39m, req, fp, code, msg, hdrs):\n\u001b[1;32m--> 643\u001b[0m     \u001b[38;5;28;01mraise\u001b[39;00m HTTPError(req\u001b[38;5;241m.\u001b[39mfull_url, code, msg, hdrs, fp)\n",
      "\u001b[1;31mHTTPError\u001b[0m: HTTP Error 400: ",
      "\nThe above exception was the direct cause of the following exception:\n",
      "\u001b[1;31mAPIError\u001b[0m                                  Traceback (most recent call last)",
      "Cell \u001b[1;32mIn[49], line 12\u001b[0m\n\u001b[0;32m      9\u001b[0m end_date \u001b[38;5;241m=\u001b[39m \u001b[38;5;124m\"\u001b[39m\u001b[38;5;124m2024-01-01\u001b[39m\u001b[38;5;124m\"\u001b[39m\n\u001b[0;32m     11\u001b[0m \u001b[38;5;66;03m# get data\u001b[39;00m\n\u001b[1;32m---> 12\u001b[0m sample1 \u001b[38;5;241m=\u001b[39m \u001b[43mfindata\u001b[49m\u001b[38;5;241;43m.\u001b[39;49m\u001b[43mendOfDayHistory\u001b[49m\u001b[43m(\u001b[49m\u001b[38;5;124;43m\"\u001b[39;49m\u001b[38;5;124;43mISIN\u001b[39;49m\u001b[38;5;124;43m\"\u001b[39;49m\u001b[43m,\u001b[49m\u001b[43m \u001b[49m\u001b[43minstruments\u001b[49m\u001b[43m,\u001b[49m\u001b[43m \u001b[49m\u001b[43mstart_date\u001b[49m\u001b[43m)\u001b[49m\n\u001b[0;32m     13\u001b[0m json_sample1 \u001b[38;5;241m=\u001b[39m json\u001b[38;5;241m.\u001b[39mdumps(sample1, sort_keys\u001b[38;5;241m=\u001b[39m\u001b[38;5;28;01mTrue\u001b[39;00m, indent\u001b[38;5;241m=\u001b[39m\u001b[38;5;241m4\u001b[39m)\n\u001b[0;32m     14\u001b[0m \u001b[38;5;28mprint\u001b[39m(json_sample1)\n",
      "File \u001b[1;32mc:\\Users\\marti\\Desktop\\projects\\Hackathons\\2024-START_hackathon\\src\\financial_data_api.py:74\u001b[0m, in \u001b[0;36mFinancialDataAPI.endOfDayHistory\u001b[1;34m(self, scheme, listings, dateFrom, dateTo)\u001b[0m\n\u001b[0;32m     67\u001b[0m end_point \u001b[38;5;241m=\u001b[39m \u001b[38;5;124m\"\u001b[39m\u001b[38;5;124m/v1/listings/marketData/endOfDayHistory\u001b[39m\u001b[38;5;124m\"\u001b[39m\n\u001b[0;32m     68\u001b[0m query_string \u001b[38;5;241m=\u001b[39m {\n\u001b[0;32m     69\u001b[0m     \u001b[38;5;124m\"\u001b[39m\u001b[38;5;124mscheme\u001b[39m\u001b[38;5;124m\"\u001b[39m: scheme,\n\u001b[0;32m     70\u001b[0m     \u001b[38;5;124m\"\u001b[39m\u001b[38;5;124mids\u001b[39m\u001b[38;5;124m\"\u001b[39m: \u001b[38;5;124m\"\u001b[39m\u001b[38;5;124m,\u001b[39m\u001b[38;5;124m\"\u001b[39m\u001b[38;5;241m.\u001b[39mjoin(listings),\n\u001b[0;32m     71\u001b[0m     \u001b[38;5;124m\"\u001b[39m\u001b[38;5;124mdateFrom\u001b[39m\u001b[38;5;124m\"\u001b[39m: dateFrom,\n\u001b[0;32m     72\u001b[0m     \u001b[38;5;124m\"\u001b[39m\u001b[38;5;124mdateTo\u001b[39m\u001b[38;5;124m\"\u001b[39m: dateTo,\n\u001b[0;32m     73\u001b[0m }\n\u001b[1;32m---> 74\u001b[0m \u001b[38;5;28;01mreturn\u001b[39;00m \u001b[38;5;28;43mself\u001b[39;49m\u001b[38;5;241;43m.\u001b[39;49m\u001b[43m_http_request\u001b[49m\u001b[43m(\u001b[49m\u001b[43mend_point\u001b[49m\u001b[43m,\u001b[49m\u001b[43m \u001b[49m\u001b[43mquery_string\u001b[49m\u001b[43m)\u001b[49m\n",
      "File \u001b[1;32mc:\\Users\\marti\\Desktop\\projects\\Hackathons\\2024-START_hackathon\\src\\financial_data_api.py:41\u001b[0m, in \u001b[0;36mFinancialDataAPI._http_request\u001b[1;34m(self, end_point, query_string)\u001b[0m\n\u001b[0;32m     39\u001b[0m \u001b[38;5;28;01mexcept\u001b[39;00m urllib\u001b[38;5;241m.\u001b[39merror\u001b[38;5;241m.\u001b[39mHTTPError \u001b[38;5;28;01mas\u001b[39;00m err:\n\u001b[0;32m     40\u001b[0m     correlation_id \u001b[38;5;241m=\u001b[39m err\u001b[38;5;241m.\u001b[39mheaders\u001b[38;5;241m.\u001b[39mget(\u001b[38;5;124m\"\u001b[39m\u001b[38;5;124mX-CorrelationID\u001b[39m\u001b[38;5;124m\"\u001b[39m)\n\u001b[1;32m---> 41\u001b[0m     \u001b[38;5;28;01mraise\u001b[39;00m APIError(\n\u001b[0;32m     42\u001b[0m         \u001b[38;5;124m\"\u001b[39m\u001b[38;5;124mAn error occurred during the API request.\u001b[39m\u001b[38;5;124m\"\u001b[39m, correlation_id\n\u001b[0;32m     43\u001b[0m     ) \u001b[38;5;28;01mfrom\u001b[39;00m \u001b[38;5;21;01merr\u001b[39;00m\n",
      "\u001b[1;31mAPIError\u001b[0m: An error occurred during the API request."
     ]
    }
   ],
   "source": [
    "# initialize class\n",
    "findata = FinancialDataAPI(dir)\n",
    "\n",
    "# define instruments (by its ISIN)\n",
    "instruments = [\"BE6342120662\"]\n",
    "\n",
    "# time span\n",
    "start_date = \"2000-01-01\"\n",
    "end_date = \"2024-01-01\"\n",
    "\n",
    "# get data\n",
    "sample1 = findata.endOfDayHistory(\"ISIN\", instruments, start_date)\n",
    "json_sample1 = json.dumps(sample1, sort_keys=True, indent=4)\n",
    "print(json_sample1)"
   ]
  },
  {
   "cell_type": "code",
   "execution_count": null,
   "metadata": {},
   "outputs": [
    {
     "data": {
      "text/plain": [
       "{'instruments': [{'lookup': {'instrumentShortName': '0 Scania CV 23 CP',\n",
       "    'instrumentStatus': 'INACTIVE',\n",
       "    'instrumentType': 'MONEY_MARKET_INSTRUMENT'},\n",
       "   'lookupStatus': 'FOUND',\n",
       "   'referenceData': {'instrumentBase': {'currentCouponRate': 0.0,\n",
       "     'instrumentNamePrefix': '0 % Commercial Paper',\n",
       "     'instrumentNameSuffix': '2023-02.05.23 Guaranteed',\n",
       "     'instrumentShortName': '0 Scania CV 23 CP',\n",
       "     'instrumentStatus': 'INACTIVE',\n",
       "     'instrumentType': 'MONEY_MARKET_INSTRUMENT',\n",
       "     'instrumentUnitType': 'NOMINAL',\n",
       "     'isin': 'BE6342120662',\n",
       "     'issuer': {'gk': 135616,\n",
       "      'lei': '529900BZYSUQLQSPNR07',\n",
       "      'longName': 'Scania CV AB',\n",
       "      'shortName': 'Scania CV AB'},\n",
       "     'language': 'EN',\n",
       "     'maturityDate': '2023-05-02',\n",
       "     'maturityType': 'EXPIRATION_FIXED_IN_ADVANCE',\n",
       "     'nominalCurrency': 'EUR',\n",
       "     'securityType': 'DEBT',\n",
       "     'valor': 125447611}},\n",
       "   'requestedId': 'BE6342120662',\n",
       "   'requestedScheme': 'ISIN'}]}"
      ]
     },
     "execution_count": 34,
     "metadata": {},
     "output_type": "execute_result"
    }
   ],
   "source": [
    "# convert to dictionary\n",
    "dict_data = json.loads(json_sample1)[\"data\"]\n",
    "dict_data"
   ]
  }
 ],
 "metadata": {
  "kernelspec": {
   "display_name": ".env_hack",
   "language": "python",
   "name": "python3"
  },
  "language_info": {
   "codemirror_mode": {
    "name": "ipython",
    "version": 3
   },
   "file_extension": ".py",
   "mimetype": "text/x-python",
   "name": "python",
   "nbconvert_exporter": "python",
   "pygments_lexer": "ipython3",
   "version": "3.10.11"
  }
 },
 "nbformat": 4,
 "nbformat_minor": 2
}
